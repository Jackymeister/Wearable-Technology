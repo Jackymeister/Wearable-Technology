{
 "cells": [
  {
   "cell_type": "markdown",
   "metadata": {
    "colab_type": "text",
    "id": "eElKz2ji5Krh"
   },
   "source": [
    "# Transformers for Sentiment Analysis"
   ]
  },
  {
   "cell_type": "code",
   "execution_count": null,
   "metadata": {
    "colab": {},
    "colab_type": "code",
    "id": "cNJ3Za8_5Krk"
   },
   "outputs": [],
   "source": [
    "import torch\n",
    "\n",
    "import random\n",
    "import numpy as np\n",
    "\n",
    "SEED = 1234\n",
    "\n",
    "random.seed(SEED)\n",
    "np.random.seed(SEED)\n",
    "torch.manual_seed(SEED)\n",
    "torch.backends.cudnn.deterministic = True"
   ]
  },
  {
   "cell_type": "markdown",
   "metadata": {
    "colab_type": "text",
    "id": "TD6OM34K5Krr"
   },
   "source": [
    "The `tokenizer` has a `vocab` attribute which contains the actual vocabulary we will be using. We can check how many tokens are in it by checking its length."
   ]
  },
  {
   "cell_type": "code",
   "execution_count": null,
   "metadata": {
    "colab": {
     "base_uri": "https://localhost:8080/",
     "height": 34
    },
    "colab_type": "code",
    "id": "8CW_zqQx5Krs",
    "outputId": "dae4f16c-9fd8-422b-a778-bc2e407ea7f1",
    "scrolled": true
   },
   "outputs": [],
   "source": [
    "len(tokenizer.vocab)"
   ]
  },
  {
   "cell_type": "code",
   "execution_count": null,
   "metadata": {
    "colab": {
     "base_uri": "https://localhost:8080/",
     "height": 34
    },
    "colab_type": "code",
    "id": "nj3CLLBQ5Krx",
    "outputId": "643d765d-df1d-4cf5-bd6f-6302701bf1db"
   },
   "outputs": [],
   "source": [
    "tokens = tokenizer.tokenize('Hello WORLD how ARE yoU?')\n",
    "\n",
    "print(tokens)"
   ]
  },
  {
   "cell_type": "code",
   "execution_count": null,
   "metadata": {
    "colab": {
     "base_uri": "https://localhost:8080/",
     "height": 34
    },
    "colab_type": "code",
    "id": "Hrm2Ho7v5Kr2",
    "outputId": "dcff00ba-34b1-4224-deb0-2e2e430edd82"
   },
   "outputs": [],
   "source": [
    "indexes = tokenizer.convert_tokens_to_ids(tokens)\n",
    "\n",
    "print(indexes)"
   ]
  },
  {
   "cell_type": "code",
   "execution_count": null,
   "metadata": {
    "colab": {
     "base_uri": "https://localhost:8080/",
     "height": 34
    },
    "colab_type": "code",
    "id": "mw5tZDhv5Kr5",
    "outputId": "7d26a9f1-f8e8-4dab-da19-bcf73dbc5da7"
   },
   "outputs": [],
   "source": [
    "init_token = tokenizer.cls_token\n",
    "eos_token = tokenizer.sep_token\n",
    "pad_token = tokenizer.pad_token\n",
    "unk_token = tokenizer.unk_token\n",
    "\n",
    "print(init_token, eos_token, pad_token, unk_token)"
   ]
  },
  {
   "cell_type": "code",
   "execution_count": null,
   "metadata": {
    "colab": {
     "base_uri": "https://localhost:8080/",
     "height": 34
    },
    "colab_type": "code",
    "id": "vKhzXyt35Kr9",
    "outputId": "14b2c5fb-aa6c-4b60-e519-0a88c3979adf"
   },
   "outputs": [],
   "source": [
    "init_token_idx = tokenizer.convert_tokens_to_ids(init_token)\n",
    "eos_token_idx = tokenizer.convert_tokens_to_ids(eos_token)\n",
    "pad_token_idx = tokenizer.convert_tokens_to_ids(pad_token)\n",
    "unk_token_idx = tokenizer.convert_tokens_to_ids(unk_token)\n",
    "\n",
    "print(init_token_idx, eos_token_idx, pad_token_idx, unk_token_idx)"
   ]
  },
  {
   "cell_type": "code",
   "execution_count": null,
   "metadata": {
    "colab": {
     "base_uri": "https://localhost:8080/",
     "height": 34
    },
    "colab_type": "code",
    "id": "3TFfvVb85KsB",
    "outputId": "a8a9f951-59a5-4a81-d531-22c42a17172e"
   },
   "outputs": [],
   "source": [
    "init_token_idx = tokenizer.cls_token_id\n",
    "eos_token_idx = tokenizer.sep_token_id\n",
    "pad_token_idx = tokenizer.pad_token_id\n",
    "unk_token_idx = tokenizer.unk_token_id\n",
    "\n",
    "print(init_token_idx, eos_token_idx, pad_token_idx, unk_token_idx)"
   ]
  },
  {
   "cell_type": "code",
   "execution_count": null,
   "metadata": {
    "colab": {
     "base_uri": "https://localhost:8080/",
     "height": 34
    },
    "colab_type": "code",
    "id": "LPDRbG335KsE",
    "outputId": "42d2b44e-c11f-4983-9125-6b81077b2062"
   },
   "outputs": [],
   "source": [
    "max_input_length = tokenizer.max_model_input_sizes['bert-base-uncased']\n",
    "\n",
    "print(max_input_length)"
   ]
  },
  {
   "cell_type": "code",
   "execution_count": null,
   "metadata": {
    "colab": {},
    "colab_type": "code",
    "id": "9U_A7kZj5KsH"
   },
   "outputs": [],
   "source": [
    "def tokenize_and_cut(sentence):\n",
    "    tokens = tokenizer.tokenize(sentence) \n",
    "    tokens = tokens[:max_input_length-2]\n",
    "    return tokens"
   ]
  },
  {
   "cell_type": "code",
   "execution_count": null,
   "metadata": {
    "colab": {},
    "colab_type": "code",
    "id": "lvSCGOAv5KsK"
   },
   "outputs": [],
   "source": [
    "from torchtext import data\n",
    "\n",
    "TEXT = data.Field(batch_first = True,\n",
    "                  use_vocab = False,\n",
    "                  tokenize = tokenize_and_cut,\n",
    "                  preprocessing = tokenizer.convert_tokens_to_ids,\n",
    "                  init_token = init_token_idx,\n",
    "                  eos_token = eos_token_idx,\n",
    "                  pad_token = pad_token_idx,\n",
    "                  unk_token = unk_token_idx)\n",
    "\n",
    "LABEL = data.LabelField(dtype = torch.float)"
   ]
  },
  {
   "cell_type": "code",
   "execution_count": null,
   "metadata": {
    "colab": {},
    "colab_type": "code",
    "id": "V9GDJNhz5KsP"
   },
   "outputs": [],
   "source": [
    "from torchtext import datasets\n",
    "\n",
    "train_data, test_data = datasets.IMDB.splits(TEXT, LABEL)\n",
    "\n",
    "train_data, valid_data = train_data.split(random_state = random.seed(SEED))"
   ]
  },
  {
   "cell_type": "code",
   "execution_count": null,
   "metadata": {
    "colab": {
     "base_uri": "https://localhost:8080/",
     "height": 68
    },
    "colab_type": "code",
    "id": "_gNjLHDc5KsS",
    "outputId": "1279b00d-e32a-4e00-8229-9db426af9172"
   },
   "outputs": [],
   "source": [
    "print(f\"Number of training examples: {len(train_data)}\")\n",
    "print(f\"Number of validation examples: {len(valid_data)}\")\n",
    "print(f\"Number of testing examples: {len(test_data)}\")"
   ]
  },
  {
   "cell_type": "code",
   "execution_count": null,
   "metadata": {
    "colab": {
     "base_uri": "https://localhost:8080/",
     "height": 54
    },
    "colab_type": "code",
    "id": "bfxGcaz05KsW",
    "outputId": "28f3b457-d814-49ff-9ab0-422793ccb3d2"
   },
   "outputs": [],
   "source": [
    "print(vars(train_data.examples[6]))"
   ]
  },
  {
   "cell_type": "code",
   "execution_count": null,
   "metadata": {
    "colab": {
     "base_uri": "https://localhost:8080/",
     "height": 54
    },
    "colab_type": "code",
    "id": "VQXJv1K15KsZ",
    "outputId": "dcd3d99a-e5aa-4e14-b77c-e2cd2e0cfede"
   },
   "outputs": [],
   "source": [
    "tokens = tokenizer.convert_ids_to_tokens(vars(train_data.examples[6])['text'])\n",
    "\n",
    "print(tokens)"
   ]
  },
  {
   "cell_type": "code",
   "execution_count": null,
   "metadata": {
    "colab": {},
    "colab_type": "code",
    "id": "MHhB-5g65Ksd"
   },
   "outputs": [],
   "source": [
    "\n",
    "LABEL.build_vocab(train_data)"
   ]
  },
  {
   "cell_type": "code",
   "execution_count": null,
   "metadata": {
    "colab": {
     "base_uri": "https://localhost:8080/",
     "height": 34
    },
    "colab_type": "code",
    "id": "9S8tuzqD5Ksf",
    "outputId": "ac4a2acb-ed1b-49df-e34b-aa9396658f56"
   },
   "outputs": [],
   "source": [
    "print(LABEL.vocab.stoi)"
   ]
  },
  {
   "cell_type": "code",
   "execution_count": null,
   "metadata": {
    "colab": {},
    "colab_type": "code",
    "id": "Nh_aRGpd5Ksj"
   },
   "outputs": [],
   "source": [
    "BATCH_SIZE = 128\n",
    "\n",
    "device = torch.device('cuda' if torch.cuda.is_available() else 'cpu')\n",
    "\n",
    "train_iterator, valid_iterator, test_iterator = data.BucketIterator.splits(\n",
    "    (train_data, valid_data, test_data), \n",
    "    batch_size = BATCH_SIZE, \n",
    "    device = device)"
   ]
  },
  {
   "cell_type": "markdown",
   "metadata": {
    "colab_type": "text",
    "id": "CbCsbq5t5Ksl"
   },
   "source": [
    "# Build the Model\n"
   ]
  },
  {
   "cell_type": "code",
   "execution_count": null,
   "metadata": {
    "colab": {},
    "colab_type": "code",
    "id": "l_Y6CFiW5Ksl"
   },
   "outputs": [],
   "source": [
    "from transformers import BertTokenizer, BertModel\n",
    "\n",
    "bert = BertModel.from_pretrained('bert-base-uncased')"
   ]
  },
  {
   "cell_type": "code",
   "execution_count": null,
   "metadata": {
    "colab": {},
    "colab_type": "code",
    "id": "-cBkllp75Ksp"
   },
   "outputs": [],
   "source": [
    "import torch.nn as nn\n",
    "\n",
    "class BERTGRUSentiment(nn.Module):\n",
    "    def __init__(self,\n",
    "                 bert,\n",
    "                 hidden_dim,\n",
    "                 output_dim,\n",
    "                 n_layers,\n",
    "                 bidirectional,\n",
    "                 dropout):\n",
    "        \n",
    "        super().__init__()\n",
    "        \n",
    "        self.bert = bert\n",
    "        \n",
    "        embedding_dim = bert.config.to_dict()['hidden_size']\n",
    "        \n",
    "        self.rnn = nn.GRU(embedding_dim,\n",
    "                          hidden_dim,\n",
    "                          num_layers = n_layers,\n",
    "                          bidirectional = bidirectional,\n",
    "                          batch_first = True,\n",
    "                          dropout = 0 if n_layers < 2 else dropout)\n",
    "        \n",
    "        self.out = nn.Linear(hidden_dim * 2 if bidirectional else hidden_dim, output_dim)\n",
    "        \n",
    "        self.dropout = nn.Dropout(dropout)\n",
    "        \n",
    "    def forward(self, text):\n",
    "        \n",
    "        #text = [batch size, sent len]\n",
    "                \n",
    "        with torch.no_grad():\n",
    "            embedded = self.bert(text)[0]\n",
    "                \n",
    "        #embedded = [batch size, sent len, emb dim]\n",
    "        \n",
    "        _, hidden = self.rnn(embedded)\n",
    "        \n",
    "        #hidden = [n layers * n directions, batch size, emb dim]\n",
    "        \n",
    "        if self.rnn.bidirectional:\n",
    "            hidden = self.dropout(torch.cat((hidden[-2,:,:], hidden[-1,:,:]), dim = 1))\n",
    "        else:\n",
    "            hidden = self.dropout(hidden[-1,:,:])\n",
    "                \n",
    "        #hidden = [batch size, hid dim]\n",
    "        \n",
    "        output = self.out(hidden)\n",
    "        \n",
    "        #output = [batch size, out dim]\n",
    "\n",
    "        return output"
   ]
  },
  {
   "cell_type": "code",
   "execution_count": null,
   "metadata": {
    "colab": {},
    "colab_type": "code",
    "id": "KuyrzoXo5Kss"
   },
   "outputs": [],
   "source": [
    "HIDDEN_DIM = 256\n",
    "OUTPUT_DIM = 1\n",
    "N_LAYERS = 2\n",
    "BIDIRECTIONAL = True\n",
    "DROPOUT = 0.25\n",
    "\n",
    "model = BERTGRUSentiment(bert,\n",
    "                         HIDDEN_DIM,\n",
    "                         OUTPUT_DIM,\n",
    "                         N_LAYERS,\n",
    "                         BIDIRECTIONAL,\n",
    "                         DROPOUT)"
   ]
  },
  {
   "cell_type": "code",
   "execution_count": null,
   "metadata": {
    "colab": {
     "base_uri": "https://localhost:8080/",
     "height": 34
    },
    "colab_type": "code",
    "id": "shRhPrYl5Ksv",
    "outputId": "7d7a893c-8256-4409-cef9-7be21eb544bd"
   },
   "outputs": [],
   "source": [
    "def count_parameters(model):\n",
    "    return sum(p.numel() for p in model.parameters() if p.requires_grad)\n",
    "\n",
    "print(f'The model has {count_parameters(model):,} trainable parameters')"
   ]
  },
  {
   "cell_type": "code",
   "execution_count": null,
   "metadata": {
    "colab": {},
    "colab_type": "code",
    "id": "jeMDnCuq5Ks0"
   },
   "outputs": [],
   "source": [
    "for name, param in model.named_parameters():                \n",
    "    if name.startswith('bert'):\n",
    "        param.requires_grad = False"
   ]
  },
  {
   "cell_type": "code",
   "execution_count": null,
   "metadata": {
    "colab": {
     "base_uri": "https://localhost:8080/",
     "height": 34
    },
    "colab_type": "code",
    "id": "nyBUHh7z5Ks3",
    "outputId": "83f68323-c177-4373-ee2e-82dad79b3b50"
   },
   "outputs": [],
   "source": [
    "def count_parameters(model):\n",
    "    return sum(p.numel() for p in model.parameters() if p.requires_grad)\n",
    "\n",
    "print(f'The model has {count_parameters(model):,} trainable parameters')"
   ]
  },
  {
   "cell_type": "code",
   "execution_count": null,
   "metadata": {
    "colab": {
     "base_uri": "https://localhost:8080/",
     "height": 323
    },
    "colab_type": "code",
    "id": "udh8V5eV5Ks6",
    "outputId": "ccf0be0f-9b27-42e8-c471-3a4ad058e2c9"
   },
   "outputs": [],
   "source": [
    "for name, param in model.named_parameters():                \n",
    "    if param.requires_grad:\n",
    "        print(name)"
   ]
  },
  {
   "cell_type": "markdown",
   "metadata": {
    "colab_type": "text",
    "id": "trxqGlkp5Ks8"
   },
   "source": [
    "## Train the Model"
   ]
  },
  {
   "cell_type": "code",
   "execution_count": null,
   "metadata": {
    "colab": {},
    "colab_type": "code",
    "id": "yoLFKdLg5Ks8"
   },
   "outputs": [],
   "source": [
    "import torch.optim as optim\n",
    "\n",
    "optimizer = optim.Adam(model.parameters())"
   ]
  },
  {
   "cell_type": "code",
   "execution_count": null,
   "metadata": {
    "colab": {},
    "colab_type": "code",
    "id": "brBPM0Sn5Ks-"
   },
   "outputs": [],
   "source": [
    "criterion = nn.BCEWithLogitsLoss()"
   ]
  },
  {
   "cell_type": "code",
   "execution_count": null,
   "metadata": {
    "colab": {},
    "colab_type": "code",
    "id": "GVixxHKf5KtD"
   },
   "outputs": [],
   "source": [
    "model = model.to(device)\n",
    "criterion = criterion.to(device)"
   ]
  },
  {
   "cell_type": "code",
   "execution_count": null,
   "metadata": {
    "colab": {},
    "colab_type": "code",
    "id": "QP1j0nzt5KtH"
   },
   "outputs": [],
   "source": [
    "def binary_accuracy(preds, y):\n",
    "    \"\"\"\n",
    "    Returns accuracy per batch, i.e. if you get 8/10 right, this returns 0.8, NOT 8\n",
    "    \"\"\"\n",
    "\n",
    "    #round predictions to the closest integer\n",
    "    rounded_preds = torch.round(torch.sigmoid(preds))\n",
    "    correct = (rounded_preds == y).float() #convert into float for division \n",
    "    acc = correct.sum() / len(correct)\n",
    "    return acc"
   ]
  },
  {
   "cell_type": "code",
   "execution_count": null,
   "metadata": {
    "colab": {},
    "colab_type": "code",
    "id": "10dZy_8-5KtJ"
   },
   "outputs": [],
   "source": [
    "def train(model, iterator, optimizer, criterion):\n",
    "    \n",
    "    epoch_loss = 0\n",
    "    epoch_acc = 0\n",
    "    \n",
    "    model.train()\n",
    "    \n",
    "    for batch in iterator:\n",
    "        \n",
    "        optimizer.zero_grad()\n",
    "        \n",
    "        predictions = model(batch.text).squeeze(1)\n",
    "        \n",
    "        loss = criterion(predictions, batch.label)\n",
    "        \n",
    "        acc = binary_accuracy(predictions, batch.label)\n",
    "        \n",
    "        loss.backward()\n",
    "        \n",
    "        optimizer.step()\n",
    "        \n",
    "        epoch_loss += loss.item()\n",
    "        epoch_acc += acc.item()\n",
    "        \n",
    "    return epoch_loss / len(iterator), epoch_acc / len(iterator)"
   ]
  },
  {
   "cell_type": "code",
   "execution_count": null,
   "metadata": {
    "colab": {},
    "colab_type": "code",
    "id": "VcAh1Dod5KtL"
   },
   "outputs": [],
   "source": [
    "def evaluate(model, iterator, criterion):\n",
    "    \n",
    "    epoch_loss = 0\n",
    "    epoch_acc = 0\n",
    "    \n",
    "    model.eval()\n",
    "    \n",
    "    with torch.no_grad():\n",
    "    \n",
    "        for batch in iterator:\n",
    "\n",
    "            predictions = model(batch.text).squeeze(1)\n",
    "            \n",
    "            loss = criterion(predictions, batch.label)\n",
    "            \n",
    "            acc = binary_accuracy(predictions, batch.label)\n",
    "\n",
    "            epoch_loss += loss.item()\n",
    "            epoch_acc += acc.item()\n",
    "        \n",
    "    return epoch_loss / len(iterator), epoch_acc / len(iterator)"
   ]
  },
  {
   "cell_type": "code",
   "execution_count": null,
   "metadata": {
    "colab": {},
    "colab_type": "code",
    "id": "G8D-eiGn5KtN"
   },
   "outputs": [],
   "source": [
    "import time\n",
    "\n",
    "def epoch_time(start_time, end_time):\n",
    "    elapsed_time = end_time - start_time\n",
    "    elapsed_mins = int(elapsed_time / 60)\n",
    "    elapsed_secs = int(elapsed_time - (elapsed_mins * 60))\n",
    "    return elapsed_mins, elapsed_secs"
   ]
  },
  {
   "cell_type": "code",
   "execution_count": null,
   "metadata": {
    "colab": {
     "base_uri": "https://localhost:8080/",
     "height": 272
    },
    "colab_type": "code",
    "id": "599K6MNG5KtQ",
    "outputId": "156951f8-a9a0-430d-a215-fb6eb74cda55"
   },
   "outputs": [],
   "source": [
    "N_EPOCHS = 5\n",
    "\n",
    "best_valid_loss = float('inf')\n",
    "\n",
    "for epoch in range(N_EPOCHS):\n",
    "    \n",
    "    start_time = time.time()\n",
    "    \n",
    "    train_loss, train_acc = train(model, train_iterator, optimizer, criterion)\n",
    "    valid_loss, valid_acc = evaluate(model, valid_iterator, criterion)\n",
    "        \n",
    "    end_time = time.time()\n",
    "        \n",
    "    epoch_mins, epoch_secs = epoch_time(start_time, end_time)\n",
    "        \n",
    "    if valid_loss < best_valid_loss:\n",
    "        best_valid_loss = valid_loss\n",
    "        torch.save(model.state_dict(), 'tut6-model.pt')\n",
    "    \n",
    "    print(f'Epoch: {epoch+1:02} | Epoch Time: {epoch_mins}m {epoch_secs}s')\n",
    "    print(f'\\tTrain Loss: {train_loss:.3f} | Train Acc: {train_acc*100:.2f}%')\n",
    "    print(f'\\t Val. Loss: {valid_loss:.3f} |  Val. Acc: {valid_acc*100:.2f}%')"
   ]
  },
  {
   "cell_type": "code",
   "execution_count": null,
   "metadata": {
    "colab": {
     "base_uri": "https://localhost:8080/",
     "height": 34
    },
    "colab_type": "code",
    "id": "2f_sNDL_5KtU",
    "outputId": "3dd1d837-921b-4581-8fd3-1f32102642ea"
   },
   "outputs": [],
   "source": [
    "model.load_state_dict(torch.load('tut6-model.pt'))\n",
    "\n",
    "test_loss, test_acc = evaluate(model, test_iterator, criterion)\n",
    "\n",
    "print(f'Test Loss: {test_loss:.3f} | Test Acc: {test_acc*100:.2f}%')"
   ]
  },
  {
   "cell_type": "code",
   "execution_count": null,
   "metadata": {
    "colab": {},
    "colab_type": "code",
    "id": "wpoAShq65KtY"
   },
   "outputs": [],
   "source": [
    "def predict_sentiment(model, tokenizer, sentence):\n",
    "    model.eval()\n",
    "    tokens = tokenizer.tokenize(sentence)\n",
    "    tokens = tokens[:max_input_length-2]\n",
    "    indexed = [init_token_idx] + tokenizer.convert_tokens_to_ids(tokens) + [eos_token_idx]\n",
    "    tensor = torch.LongTensor(indexed).to(device)\n",
    "    tensor = tensor.unsqueeze(0)\n",
    "    prediction = torch.sigmoid(model(tensor))\n",
    "    return prediction.item()"
   ]
  },
  {
   "cell_type": "code",
   "execution_count": null,
   "metadata": {
    "colab": {},
    "colab_type": "code",
    "id": "dVgvjVhaI3tO"
   },
   "outputs": [],
   "source": [
    "!pip install -U -q PyDrive\n",
    "from pydrive.auth import GoogleAuth\n",
    "from pydrive.drive import GoogleDrive\n",
    "from google.colab import auth\n",
    "from oauth2client.client import GoogleCredentials\n",
    "# Authenticate and create the PyDrive client.\n",
    "auth.authenticate_user()\n",
    "gauth = GoogleAuth()\n",
    "gauth.credentials = GoogleCredentials.get_application_default()\n",
    "drive = GoogleDrive(gauth)"
   ]
  },
  {
   "cell_type": "code",
   "execution_count": null,
   "metadata": {
    "colab": {},
    "colab_type": "code",
    "id": "mG2NIRpwI5OB"
   },
   "outputs": [],
   "source": [
    "link =\"https://drive.google.com/open?id=1MF2EAQLRhFd36EZOohImLUbUWAZzAkDm\""
   ]
  },
  {
   "cell_type": "code",
   "execution_count": null,
   "metadata": {
    "colab": {
     "base_uri": "https://localhost:8080/",
     "height": 34
    },
    "colab_type": "code",
    "id": "i0wwARQEJCJl",
    "outputId": "96cc18b8-4d2b-4dcd-f8a2-b3891e01b7d9"
   },
   "outputs": [],
   "source": [
    "fluff, id = link.split('=')\n",
    "print (id) "
   ]
  },
  {
   "cell_type": "code",
   "execution_count": null,
   "metadata": {
    "colab": {
     "base_uri": "https://localhost:8080/",
     "height": 34
    },
    "colab_type": "code",
    "id": "08bq75BTJEyt",
    "outputId": "6cf93bc5-bcab-4a81-ad31-c6081dbb02e3"
   },
   "outputs": [],
   "source": [
    "import pandas as pd\n",
    "downloaded = drive.CreateFile({'id':id}) \n",
    "downloaded.GetContentFile('Academia.csv')  \n",
    "df = pd.read_csv('.csv')\n",
    "len(df)"
   ]
  },
  {
   "cell_type": "code",
   "execution_count": null,
   "metadata": {
    "colab": {},
    "colab_type": "code",
    "id": "RjmIAf25HFkF"
   },
   "outputs": [],
   "source": [
    "df = df.drop_duplicates(\"Text\")"
   ]
  },
  {
   "cell_type": "code",
   "execution_count": null,
   "metadata": {
    "colab": {
     "base_uri": "https://localhost:8080/",
     "height": 419
    },
    "colab_type": "code",
    "id": "-clce3DWQYoh",
    "outputId": "a43ac509-de43-4684-d00d-823b4356af2c"
   },
   "outputs": [],
   "source": [
    "df.head(-1)"
   ]
  },
  {
   "cell_type": "code",
   "execution_count": null,
   "metadata": {
    "colab": {},
    "colab_type": "code",
    "id": "MhLiOhyCcDjN"
   },
   "outputs": [],
   "source": [
    "df = df.drop(columns=[\"Unnamed: 0\",\"Unnamed: 0.1\"])"
   ]
  },
  {
   "cell_type": "code",
   "execution_count": null,
   "metadata": {
    "colab": {},
    "colab_type": "code",
    "id": "fLOw9GzCHUNm"
   },
   "outputs": [],
   "source": [
    "df = df.drop(columns=[\"Timestamp\"])"
   ]
  },
  {
   "cell_type": "code",
   "execution_count": null,
   "metadata": {
    "colab": {},
    "colab_type": "code",
    "id": "UqEFYPSBHi3G"
   },
   "outputs": [],
   "source": []
  },
  {
   "cell_type": "code",
   "execution_count": null,
   "metadata": {
    "colab": {},
    "colab_type": "code",
    "id": "sOZIb6N9GfI-"
   },
   "outputs": [],
   "source": [
    "df[\"Count\"] = 1"
   ]
  },
  {
   "cell_type": "code",
   "execution_count": null,
   "metadata": {
    "colab": {},
    "colab_type": "code",
    "id": "j1wi64C1cbYa"
   },
   "outputs": [],
   "source": [
    "df = pd.concat([df,df1])"
   ]
  },
  {
   "cell_type": "code",
   "execution_count": null,
   "metadata": {
    "colab": {},
    "colab_type": "code",
    "id": "oBrB2gSFcqB9"
   },
   "outputs": [],
   "source": [
    "df = df.dropna()"
   ]
  },
  {
   "cell_type": "code",
   "execution_count": null,
   "metadata": {
    "colab": {},
    "colab_type": "code",
    "id": "NLNLCkDQdNDg"
   },
   "outputs": [],
   "source": [
    "df = df.drop_duplicates(\"Text\")"
   ]
  },
  {
   "cell_type": "code",
   "execution_count": null,
   "metadata": {
    "colab": {},
    "colab_type": "code",
    "id": "_UHhBFjNs2sh"
   },
   "outputs": [],
   "source": [
    "import numpy as np\n",
    "df_split = np.array_split(df, 3)"
   ]
  },
  {
   "cell_type": "code",
   "execution_count": null,
   "metadata": {
    "colab": {
     "base_uri": "https://localhost:8080/",
     "height": 359
    },
    "colab_type": "code",
    "id": "p41QtZQvb-Fa",
    "outputId": "ce390ed7-65d2-4bd9-c4ee-84499920f82c"
   },
   "outputs": [],
   "source": [
    "df.head(10)"
   ]
  },
  {
   "cell_type": "code",
   "execution_count": null,
   "metadata": {
    "colab": {},
    "colab_type": "code",
    "id": "WJEf9GbaDbMI"
   },
   "outputs": [],
   "source": []
  },
  {
   "cell_type": "code",
   "execution_count": null,
   "metadata": {
    "colab": {},
    "colab_type": "code",
    "id": "EcGUNtMRYQMm"
   },
   "outputs": [],
   "source": []
  },
  {
   "cell_type": "code",
   "execution_count": null,
   "metadata": {
    "colab": {},
    "colab_type": "code",
    "id": "eFwB7p6Ix8Ve"
   },
   "outputs": [],
   "source": [
    "df[\"Count\"] = 1"
   ]
  },
  {
   "cell_type": "code",
   "execution_count": null,
   "metadata": {
    "colab": {},
    "colab_type": "code",
    "id": "yvOowYNBLzPu"
   },
   "outputs": [],
   "source": [
    "df0 = df_split[0]\n",
    "df0 = df0.reset_index(drop=True)"
   ]
  },
  {
   "cell_type": "code",
   "execution_count": null,
   "metadata": {
    "colab": {},
    "colab_type": "code",
    "id": "LsbpsFt2L5F8"
   },
   "outputs": [],
   "source": [
    "sentiment0 = []\n",
    "for i in range(len(df)):\n",
    "  try:\n",
    "    score = predict_sentiment(model, tokenizer, str(df[\"Text\"][i]))\n",
    "    sentiment0.append(score)\n",
    "  except:\n",
    "    sentiment0.append(0.5)\n",
    "  i += 1\n"
   ]
  },
  {
   "cell_type": "code",
   "execution_count": null,
   "metadata": {
    "colab": {
     "base_uri": "https://localhost:8080/",
     "height": 170
    },
    "colab_type": "code",
    "id": "xPmUgr1kHxgm",
    "outputId": "07b3e00b-f0ae-49fb-e5d2-b99cc24f864a"
   },
   "outputs": [],
   "source": [
    "sentiment0[1:10]"
   ]
  },
  {
   "cell_type": "code",
   "execution_count": null,
   "metadata": {
    "colab": {},
    "colab_type": "code",
    "id": "dC-fMfYFeEEY"
   },
   "outputs": [],
   "source": [
    "df[\"Sentiment\"] = sentiment0"
   ]
  },
  {
   "cell_type": "code",
   "execution_count": null,
   "metadata": {
    "colab": {},
    "colab_type": "code",
    "id": "x72PDlg9IsGl"
   },
   "outputs": [],
   "source": []
  },
  {
   "cell_type": "code",
   "execution_count": null,
   "metadata": {
    "colab": {},
    "colab_type": "code",
    "id": "o1gvV8kDxJA8"
   },
   "outputs": [],
   "source": [
    "df[\"Sentiment\"] = sentiment0"
   ]
  },
  {
   "cell_type": "code",
   "execution_count": null,
   "metadata": {
    "colab": {
     "base_uri": "https://localhost:8080/",
     "height": 1000
    },
    "colab_type": "code",
    "id": "sJtmJfCNxMb1",
    "outputId": "25ca1a31-712d-4160-d338-693e6886781c"
   },
   "outputs": [],
   "source": [
    "df.groupby([\"Dominant_Topic\",\"Year\"]).mean()"
   ]
  },
  {
   "cell_type": "code",
   "execution_count": null,
   "metadata": {
    "colab": {},
    "colab_type": "code",
    "id": "sadAg_Lq6ujJ"
   },
   "outputs": [],
   "source": [
    "df1 = pd.DataFrame(df1)"
   ]
  },
  {
   "cell_type": "code",
   "execution_count": null,
   "metadata": {
    "colab": {},
    "colab_type": "code",
    "id": "YFoAcIpbFfBk"
   },
   "outputs": [],
   "source": [
    "y = cs[\"Count\"]"
   ]
  },
  {
   "cell_type": "code",
   "execution_count": null,
   "metadata": {
    "colab": {
     "base_uri": "https://localhost:8080/",
     "height": 442
    },
    "colab_type": "code",
    "id": "9YdGxtkqRZW1",
    "outputId": "057feb9d-cf39-4d36-dcb0-e59427b5d2e6"
   },
   "outputs": [],
   "source": [
    "df.to_csv('keyword.csv')\n",
    "from google.colab import files\n",
    "files.download('keyword.csv')"
   ]
  },
  {
   "cell_type": "code",
   "execution_count": null,
   "metadata": {
    "colab": {},
    "colab_type": "code",
    "id": "6j5R10GwFtrH"
   },
   "outputs": [],
   "source": [
    "y = pd.DataFrame(y)"
   ]
  },
  {
   "cell_type": "code",
   "execution_count": null,
   "metadata": {
    "colab": {},
    "colab_type": "code",
    "id": "XP0Q3r5dYe2G"
   },
   "outputs": [],
   "source": []
  },
  {
   "cell_type": "code",
   "execution_count": null,
   "metadata": {
    "colab": {},
    "colab_type": "code",
    "id": "34hl4dv7Ytje"
   },
   "outputs": [],
   "source": []
  },
  {
   "cell_type": "code",
   "execution_count": null,
   "metadata": {
    "colab": {},
    "colab_type": "code",
    "id": "OUIQ2ZhiY8NA"
   },
   "outputs": [],
   "source": []
  },
  {
   "cell_type": "code",
   "execution_count": null,
   "metadata": {
    "colab": {},
    "colab_type": "code",
    "id": "wKW0g66HZK2h"
   },
   "outputs": [],
   "source": []
  },
  {
   "cell_type": "code",
   "execution_count": null,
   "metadata": {
    "colab": {},
    "colab_type": "code",
    "id": "duhCl9LyZZf_"
   },
   "outputs": [],
   "source": []
  },
  {
   "cell_type": "code",
   "execution_count": null,
   "metadata": {
    "colab": {},
    "colab_type": "code",
    "id": "0MsZcHFAZoJh"
   },
   "outputs": [],
   "source": []
  },
  {
   "cell_type": "code",
   "execution_count": null,
   "metadata": {
    "colab": {},
    "colab_type": "code",
    "id": "GeosQvC7Z2y-"
   },
   "outputs": [],
   "source": []
  },
  {
   "cell_type": "code",
   "execution_count": null,
   "metadata": {
    "colab": {},
    "colab_type": "code",
    "id": "9gFUK8faaFcg"
   },
   "outputs": [],
   "source": []
  },
  {
   "cell_type": "code",
   "execution_count": null,
   "metadata": {
    "colab": {},
    "colab_type": "code",
    "id": "FQ64YC2XaUGC"
   },
   "outputs": [],
   "source": []
  },
  {
   "cell_type": "code",
   "execution_count": null,
   "metadata": {
    "colab": {},
    "colab_type": "code",
    "id": "ytHhgbs1aivf"
   },
   "outputs": [],
   "source": []
  },
  {
   "cell_type": "code",
   "execution_count": null,
   "metadata": {
    "colab": {},
    "colab_type": "code",
    "id": "qzkr9MaxaxZA"
   },
   "outputs": [],
   "source": []
  },
  {
   "cell_type": "code",
   "execution_count": null,
   "metadata": {
    "colab": {},
    "colab_type": "code",
    "id": "YuhQ-L83bACr"
   },
   "outputs": [],
   "source": []
  },
  {
   "cell_type": "code",
   "execution_count": null,
   "metadata": {
    "colab": {},
    "colab_type": "code",
    "id": "MS5EfxkibOr_"
   },
   "outputs": [],
   "source": []
  },
  {
   "cell_type": "code",
   "execution_count": null,
   "metadata": {
    "colab": {},
    "colab_type": "code",
    "id": "8Ub5rQPSbdVg"
   },
   "outputs": [],
   "source": []
  },
  {
   "cell_type": "code",
   "execution_count": null,
   "metadata": {
    "colab": {},
    "colab_type": "code",
    "id": "EKR32DbPbr_A"
   },
   "outputs": [],
   "source": []
  },
  {
   "cell_type": "code",
   "execution_count": null,
   "metadata": {
    "colab": {},
    "colab_type": "code",
    "id": "Lf1MfrSDb6oe"
   },
   "outputs": [],
   "source": []
  },
  {
   "cell_type": "code",
   "execution_count": null,
   "metadata": {
    "colab": {},
    "colab_type": "code",
    "id": "rQmCbZSOcJSA"
   },
   "outputs": [],
   "source": []
  },
  {
   "cell_type": "code",
   "execution_count": null,
   "metadata": {
    "colab": {},
    "colab_type": "code",
    "id": "ynWao7XRcX7h"
   },
   "outputs": [],
   "source": []
  },
  {
   "cell_type": "code",
   "execution_count": null,
   "metadata": {
    "colab": {},
    "colab_type": "code",
    "id": "Wzvuaq8McmlC"
   },
   "outputs": [],
   "source": []
  },
  {
   "cell_type": "code",
   "execution_count": null,
   "metadata": {
    "colab": {},
    "colab_type": "code",
    "id": "VM4laJ-7c1Oj"
   },
   "outputs": [],
   "source": []
  },
  {
   "cell_type": "code",
   "execution_count": null,
   "metadata": {
    "colab": {},
    "colab_type": "code",
    "id": "8ji1Q0dxdD4C"
   },
   "outputs": [],
   "source": []
  },
  {
   "cell_type": "code",
   "execution_count": null,
   "metadata": {
    "colab": {},
    "colab_type": "code",
    "id": "y7idybVRdShf"
   },
   "outputs": [],
   "source": []
  },
  {
   "cell_type": "code",
   "execution_count": null,
   "metadata": {
    "colab": {},
    "colab_type": "code",
    "id": "A8BTBk6-dhLA"
   },
   "outputs": [],
   "source": []
  },
  {
   "cell_type": "code",
   "execution_count": null,
   "metadata": {
    "colab": {},
    "colab_type": "code",
    "id": "xbib7N5vdv0e"
   },
   "outputs": [],
   "source": []
  },
  {
   "cell_type": "code",
   "execution_count": null,
   "metadata": {
    "colab": {},
    "colab_type": "code",
    "id": "3FIQtQAyxMv6"
   },
   "outputs": [],
   "source": [
    "df1 = df_split[1]\n",
    "df1 = df1.reset_index(drop=True)"
   ]
  },
  {
   "cell_type": "code",
   "execution_count": null,
   "metadata": {
    "colab": {},
    "colab_type": "code",
    "id": "aCAJq2_pxMwE"
   },
   "outputs": [],
   "source": [
    "sentiment1 = []\n",
    "for i in range(len(df0)):\n",
    "  try:\n",
    "    score = predict_sentiment(model, tokenizer, str(df1[\"Text\"][i]))\n",
    "    sentiment1.append(score)\n",
    "  except:\n",
    "    sentiment1.append(0.5)\n",
    "  i += 1\n"
   ]
  },
  {
   "cell_type": "code",
   "execution_count": null,
   "metadata": {
    "colab": {},
    "colab_type": "code",
    "id": "8M8Yf-XNxWgP"
   },
   "outputs": [],
   "source": [
    "sentiment2 = []\n",
    "for i in range(len(df2)):\n",
    "  try:\n",
    "    score = predict_sentiment(model, tokenizer, str(df2[\"Text\"][i]))\n",
    "    sentiment2.append(score)\n",
    "  except:\n",
    "    sentiment2.append(0.5)\n",
    "  i += 1\n"
   ]
  },
  {
   "cell_type": "code",
   "execution_count": null,
   "metadata": {
    "colab": {},
    "colab_type": "code",
    "id": "uzr9HWBcxWgQ"
   },
   "outputs": [],
   "source": [
    "df2[\"Sentiment\"] = sentiment2"
   ]
  },
  {
   "cell_type": "code",
   "execution_count": null,
   "metadata": {
    "colab": {},
    "colab_type": "code",
    "id": "G0GmOc88yK_J"
   },
   "outputs": [],
   "source": []
  },
  {
   "cell_type": "code",
   "execution_count": null,
   "metadata": {
    "colab": {
     "base_uri": "https://localhost:8080/",
     "height": 34
    },
    "colab_type": "code",
    "id": "5p8DElbjUv85",
    "outputId": "9c82de89-d147-4739-eb66-ac408509f699"
   },
   "outputs": [],
   "source": [
    "len(sentiment)"
   ]
  },
  {
   "cell_type": "code",
   "execution_count": null,
   "metadata": {
    "colab": {
     "base_uri": "https://localhost:8080/",
     "height": 204
    },
    "colab_type": "code",
    "id": "GgsS_yi03qi8",
    "outputId": "78329551-dd2e-4460-e562-8b5f243d7970"
   },
   "outputs": [],
   "source": [
    "df.head()"
   ]
  },
  {
   "cell_type": "code",
   "execution_count": null,
   "metadata": {
    "colab": {},
    "colab_type": "code",
    "id": "mt6aCrclDkQ8"
   },
   "outputs": [],
   "source": [
    "df.to_csv('Academia.csv')\n",
    "from google.colab import files\n",
    "files.download('Academia.csv')"
   ]
  },
  {
   "cell_type": "code",
   "execution_count": null,
   "metadata": {
    "colab": {
     "base_uri": "https://localhost:8080/",
     "height": 204
    },
    "colab_type": "code",
    "id": "oAwGRtQX35Mb",
    "outputId": "c001eee0-8d10-41b3-a0fa-087753aca61a"
   },
   "outputs": [],
   "source": [
    "df1.head()"
   ]
  },
  {
   "cell_type": "code",
   "execution_count": null,
   "metadata": {
    "colab": {},
    "colab_type": "code",
    "id": "S7u1z_9vHsA2"
   },
   "outputs": [],
   "source": []
  },
  {
   "cell_type": "code",
   "execution_count": null,
   "metadata": {
    "colab": {
     "base_uri": "https://localhost:8080/",
     "height": 204
    },
    "colab_type": "code",
    "id": "_ZbQAEht4H18",
    "outputId": "ea218459-b2ee-4206-f2ae-91e38ddd2872"
   },
   "outputs": [],
   "source": [
    "df2.head()"
   ]
  },
  {
   "cell_type": "code",
   "execution_count": null,
   "metadata": {
    "colab": {},
    "colab_type": "code",
    "id": "_Tvr4hMySrI8"
   },
   "outputs": [],
   "source": []
  },
  {
   "cell_type": "code",
   "execution_count": null,
   "metadata": {
    "colab": {},
    "colab_type": "code",
    "id": "2HJFLJa8S5ya"
   },
   "outputs": [],
   "source": []
  },
  {
   "cell_type": "code",
   "execution_count": null,
   "metadata": {
    "colab": {},
    "colab_type": "code",
    "id": "L_XopodFTIb3"
   },
   "outputs": [],
   "source": []
  },
  {
   "cell_type": "code",
   "execution_count": null,
   "metadata": {
    "colab": {},
    "colab_type": "code",
    "id": "_g8__eIfTXFb"
   },
   "outputs": [],
   "source": []
  },
  {
   "cell_type": "code",
   "execution_count": null,
   "metadata": {
    "colab": {},
    "colab_type": "code",
    "id": "X1Yxf0DjTlu6"
   },
   "outputs": [],
   "source": []
  },
  {
   "cell_type": "code",
   "execution_count": null,
   "metadata": {
    "colab": {},
    "colab_type": "code",
    "id": "-iFMtZsuT0Yh"
   },
   "outputs": [],
   "source": []
  },
  {
   "cell_type": "code",
   "execution_count": null,
   "metadata": {
    "colab": {},
    "colab_type": "code",
    "id": "1tCty3BvUDB8"
   },
   "outputs": [],
   "source": []
  },
  {
   "cell_type": "code",
   "execution_count": null,
   "metadata": {
    "colab": {},
    "colab_type": "code",
    "id": "8XXa1OwlURrd"
   },
   "outputs": [],
   "source": []
  },
  {
   "cell_type": "code",
   "execution_count": null,
   "metadata": {
    "colab": {},
    "colab_type": "code",
    "id": "y9Ff-z6hUgU6"
   },
   "outputs": [],
   "source": []
  },
  {
   "cell_type": "code",
   "execution_count": null,
   "metadata": {
    "colab": {},
    "colab_type": "code",
    "id": "Wmnb8ffiUu-W"
   },
   "outputs": [],
   "source": []
  },
  {
   "cell_type": "code",
   "execution_count": null,
   "metadata": {
    "colab": {},
    "colab_type": "code",
    "id": "nosM1xvAU9n6"
   },
   "outputs": [],
   "source": []
  },
  {
   "cell_type": "code",
   "execution_count": null,
   "metadata": {
    "colab": {},
    "colab_type": "code",
    "id": "dVR4wHXFVMRc"
   },
   "outputs": [],
   "source": []
  },
  {
   "cell_type": "code",
   "execution_count": null,
   "metadata": {
    "colab": {},
    "colab_type": "code",
    "id": "2YoqhdHpVa68"
   },
   "outputs": [],
   "source": []
  },
  {
   "cell_type": "code",
   "execution_count": null,
   "metadata": {
    "colab": {},
    "colab_type": "code",
    "id": "IoccG36eVpkb"
   },
   "outputs": [],
   "source": []
  },
  {
   "cell_type": "code",
   "execution_count": null,
   "metadata": {
    "colab": {},
    "colab_type": "code",
    "id": "92wYHsxV4Wfd"
   },
   "outputs": [],
   "source": [
    "df = pd.concat([df0,df1,df2])"
   ]
  },
  {
   "cell_type": "code",
   "execution_count": null,
   "metadata": {
    "colab": {
     "base_uri": "https://localhost:8080/",
     "height": 34
    },
    "colab_type": "code",
    "id": "4AqwTkY35Cb7",
    "outputId": "29e3cf9b-8138-4b14-c8d2-94d7fa8158da"
   },
   "outputs": [],
   "source": [
    "len(df)"
   ]
  },
  {
   "cell_type": "code",
   "execution_count": null,
   "metadata": {
    "colab": {
     "base_uri": "https://localhost:8080/",
     "height": 606
    },
    "colab_type": "code",
    "id": "CPIH8Gke5RFd",
    "outputId": "3ffcd7d3-441f-480d-8c01-b104ed57d985"
   },
   "outputs": [],
   "source": [
    "df.head(-10)"
   ]
  },
  {
   "cell_type": "code",
   "execution_count": null,
   "metadata": {
    "colab": {},
    "colab_type": "code",
    "id": "ANOD5Rh55fu8"
   },
   "outputs": [],
   "source": []
  },
  {
   "cell_type": "code",
   "execution_count": null,
   "metadata": {
    "colab": {},
    "colab_type": "code",
    "id": "_hfXKWE07GRl"
   },
   "outputs": [],
   "source": []
  },
  {
   "cell_type": "code",
   "execution_count": null,
   "metadata": {
    "colab": {},
    "colab_type": "code",
    "id": "vz_0l6t05uYd"
   },
   "outputs": [],
   "source": []
  },
  {
   "cell_type": "code",
   "execution_count": null,
   "metadata": {
    "colab": {},
    "colab_type": "code",
    "id": "XnVDS2NA59B9"
   },
   "outputs": [],
   "source": []
  },
  {
   "cell_type": "code",
   "execution_count": null,
   "metadata": {
    "colab": {},
    "colab_type": "code",
    "id": "1gSkBSor6Lre"
   },
   "outputs": [],
   "source": []
  },
  {
   "cell_type": "code",
   "execution_count": null,
   "metadata": {
    "colab": {},
    "colab_type": "code",
    "id": "MO0x9Fdo6aU8"
   },
   "outputs": [],
   "source": []
  },
  {
   "cell_type": "code",
   "execution_count": null,
   "metadata": {
    "colab": {},
    "colab_type": "code",
    "id": "vfkeV9xp6o-c"
   },
   "outputs": [],
   "source": []
  },
  {
   "cell_type": "code",
   "execution_count": null,
   "metadata": {
    "colab": {},
    "colab_type": "code",
    "id": "6kNTu2XT63n7"
   },
   "outputs": [],
   "source": []
  },
  {
   "cell_type": "code",
   "execution_count": null,
   "metadata": {
    "colab": {},
    "colab_type": "code",
    "id": "RyXuv8G-4lI9"
   },
   "outputs": [],
   "source": []
  },
  {
   "cell_type": "code",
   "execution_count": null,
   "metadata": {
    "colab": {},
    "colab_type": "code",
    "id": "LHxxMclK4zyb"
   },
   "outputs": [],
   "source": []
  },
  {
   "cell_type": "code",
   "execution_count": null,
   "metadata": {
    "colab": {},
    "colab_type": "code",
    "id": "-E_qGn_del-q"
   },
   "outputs": [],
   "source": [
    "df[\"Sentiment\"] = sentiment"
   ]
  },
  {
   "cell_type": "code",
   "execution_count": null,
   "metadata": {
    "colab": {
     "base_uri": "https://localhost:8080/",
     "height": 419
    },
    "colab_type": "code",
    "id": "S6pRsjgYmRRJ",
    "outputId": "0d2c9b5a-f4cc-43ee-83de-7819653b5718"
   },
   "outputs": [],
   "source": [
    "df.head(-1000)"
   ]
  },
  {
   "cell_type": "code",
   "execution_count": null,
   "metadata": {
    "colab": {},
    "colab_type": "code",
    "id": "6WltFVFqmuj5"
   },
   "outputs": [],
   "source": []
  },
  {
   "cell_type": "code",
   "execution_count": null,
   "metadata": {
    "colab": {},
    "colab_type": "code",
    "id": "O0-XD4g0wzF6"
   },
   "outputs": [],
   "source": []
  },
  {
   "cell_type": "code",
   "execution_count": null,
   "metadata": {
    "colab": {},
    "colab_type": "code",
    "id": "doQ1pBv-lWrM"
   },
   "outputs": [],
   "source": []
  },
  {
   "cell_type": "code",
   "execution_count": null,
   "metadata": {
    "colab": {},
    "colab_type": "code",
    "id": "f4b4o8Ffmf6a"
   },
   "outputs": [],
   "source": []
  },
  {
   "cell_type": "code",
   "execution_count": null,
   "metadata": {
    "colab": {},
    "colab_type": "code",
    "id": "vg6Qn-DRMYzs"
   },
   "outputs": [],
   "source": [
    "x = df.groupby([\"Dominant_Topic\"]).sum()"
   ]
  },
  {
   "cell_type": "code",
   "execution_count": null,
   "metadata": {
    "colab": {
     "base_uri": "https://localhost:8080/",
     "height": 328
    },
    "colab_type": "code",
    "id": "DKSZd653M3hW",
    "outputId": "cbfa682c-bc75-4fa7-bec3-50ec8c727ed7"
   },
   "outputs": [],
   "source": [
    "x"
   ]
  },
  {
   "cell_type": "code",
   "execution_count": null,
   "metadata": {
    "colab": {
     "base_uri": "https://localhost:8080/",
     "height": 306
    },
    "colab_type": "code",
    "id": "aCmp7YK7DGOb",
    "outputId": "0d094cfe-0368-4ebe-fbc6-9f9adb731934"
   },
   "outputs": [],
   "source": [
    "df.head()"
   ]
  },
  {
   "cell_type": "code",
   "execution_count": null,
   "metadata": {
    "colab": {},
    "colab_type": "code",
    "id": "v4ZcbswZCpNC"
   },
   "outputs": [],
   "source": [
    "df.to_csv('Bert_Google.csv')\n",
    "from google.colab import files\n",
    "files.download('Bert_Google.csv')"
   ]
  },
  {
   "cell_type": "code",
   "execution_count": null,
   "metadata": {
    "colab": {
     "base_uri": "https://localhost:8080/",
     "height": 306
    },
    "colab_type": "code",
    "id": "ssS7GsFgnLXb",
    "outputId": "d947080e-0c0b-4cb6-cdae-b5725a835aa8"
   },
   "outputs": [],
   "source": [
    "df7.head()"
   ]
  },
  {
   "cell_type": "code",
   "execution_count": null,
   "metadata": {
    "colab": {
     "base_uri": "https://localhost:8080/",
     "height": 204
    },
    "colab_type": "code",
    "id": "9dV-sr9Ddmhk",
    "outputId": "00fa406c-ae5c-4bdb-a4f8-99f000c1b4a1"
   },
   "outputs": [],
   "source": [
    "df7 = df_split[7]\n",
    "df7 = df7.reset_index(drop=True)\n",
    "df7.head()"
   ]
  },
  {
   "cell_type": "code",
   "execution_count": null,
   "metadata": {
    "colab": {},
    "colab_type": "code",
    "id": "5peh3BOpdmfw"
   },
   "outputs": [],
   "source": [
    "sentiment = []\n",
    "for i in range(len(df7)):\n",
    "  try:\n",
    "    score = predict_sentiment(model, tokenizer, df7[\"Text\"][i])\n",
    "    sentiment.append(score)\n",
    "  except:\n",
    "    sentiment.append(0.5)\n",
    "  i += 1\n"
   ]
  },
  {
   "cell_type": "code",
   "execution_count": null,
   "metadata": {
    "colab": {},
    "colab_type": "code",
    "id": "jol8yy9zeOIO"
   },
   "outputs": [],
   "source": [
    "df7[\"Sentiment\"] = sentiment"
   ]
  },
  {
   "cell_type": "code",
   "execution_count": null,
   "metadata": {
    "colab": {
     "base_uri": "https://localhost:8080/",
     "height": 272
    },
    "colab_type": "code",
    "id": "A3xJ_5iidmcd",
    "outputId": "5f299f0e-fa54-4216-d634-a91f0aed6ef7"
   },
   "outputs": [],
   "source": [
    "df8 = df_split[8]\n",
    "df8 = df8.reset_index(drop=True)\n",
    "df8.head()"
   ]
  },
  {
   "cell_type": "code",
   "execution_count": null,
   "metadata": {
    "colab": {},
    "colab_type": "code",
    "id": "taREURYadmZ1"
   },
   "outputs": [],
   "source": [
    "sentiment = []\n",
    "for i in range(len(df8)):\n",
    "  try:\n",
    "    score = predict_sentiment(model, tokenizer, df8[\"Text\"][i])\n",
    "    sentiment.append(score)\n",
    "  except:\n",
    "    sentiment.append(0.5)\n",
    "  i += 1\n"
   ]
  },
  {
   "cell_type": "code",
   "execution_count": null,
   "metadata": {
    "colab": {},
    "colab_type": "code",
    "id": "t3gjkwLnePNq"
   },
   "outputs": [],
   "source": [
    "df8[\"Sentiment\"] = sentiment"
   ]
  },
  {
   "cell_type": "code",
   "execution_count": null,
   "metadata": {
    "colab": {
     "base_uri": "https://localhost:8080/",
     "height": 272
    },
    "colab_type": "code",
    "id": "Q2Z98QORdmV5",
    "outputId": "311fd62b-93ed-4cc0-bc80-ee9619c0d0a1"
   },
   "outputs": [],
   "source": [
    "df9 = df_split[9]\n",
    "df9 = df9.reset_index(drop=True)\n",
    "df9.head()"
   ]
  },
  {
   "cell_type": "code",
   "execution_count": null,
   "metadata": {
    "colab": {},
    "colab_type": "code",
    "id": "DZmJiozIdmNO"
   },
   "outputs": [],
   "source": [
    "sentiment = []\n",
    "for i in range(len(df9)):\n",
    "  try:\n",
    "    score = predict_sentiment(model, tokenizer, df9[\"Text\"][i])\n",
    "    sentiment.append(score)\n",
    "  except:\n",
    "    sentiment.append(0.5)\n",
    "  i += 1\n"
   ]
  },
  {
   "cell_type": "code",
   "execution_count": null,
   "metadata": {
    "colab": {},
    "colab_type": "code",
    "id": "kpQCAXMNeQI7"
   },
   "outputs": [],
   "source": [
    "df9[\"Sentiment\"] = sentiment"
   ]
  },
  {
   "cell_type": "code",
   "execution_count": null,
   "metadata": {
    "colab": {
     "base_uri": "https://localhost:8080/",
     "height": 255
    },
    "colab_type": "code",
    "id": "8S5czTKZdl9a",
    "outputId": "f75448ed-6d3a-4af0-b5ec-afd7758b586d"
   },
   "outputs": [],
   "source": [
    "df10 = df_split[10]\n",
    "df10 = df10.reset_index(drop=True)\n",
    "df10.head()"
   ]
  },
  {
   "cell_type": "code",
   "execution_count": null,
   "metadata": {
    "colab": {},
    "colab_type": "code",
    "id": "OeB3Rlz4dphs"
   },
   "outputs": [],
   "source": [
    "sentiment = []\n",
    "for i in range(len(df10)):\n",
    "  try:\n",
    "    score = predict_sentiment(model, tokenizer, df10[\"Text\"][i])\n",
    "    sentiment.append(score)\n",
    "  except:\n",
    "    sentiment.append(0.5)\n",
    "  i += 1\n"
   ]
  },
  {
   "cell_type": "code",
   "execution_count": null,
   "metadata": {
    "colab": {},
    "colab_type": "code",
    "id": "1TjfI9LpeTsG"
   },
   "outputs": [],
   "source": [
    "df10[\"Sentiment\"] = sentiment"
   ]
  },
  {
   "cell_type": "code",
   "execution_count": null,
   "metadata": {
    "colab": {
     "base_uri": "https://localhost:8080/",
     "height": 272
    },
    "colab_type": "code",
    "id": "AtDMy0czeY-Z",
    "outputId": "7e7e17cb-44bc-4d65-8296-3db19b7d0c89"
   },
   "outputs": [],
   "source": [
    "df11 = df_split[11]\n",
    "df11 = df11.reset_index(drop=True)\n",
    "df11.head()"
   ]
  },
  {
   "cell_type": "code",
   "execution_count": null,
   "metadata": {
    "colab": {},
    "colab_type": "code",
    "id": "s33wnw68eY1G"
   },
   "outputs": [],
   "source": [
    "sentiment = []\n",
    "for i in range(len(df11)):\n",
    "  try:\n",
    "    score = predict_sentiment(model, tokenizer, df11[\"Text\"][i])\n",
    "    sentiment.append(score)\n",
    "  except:\n",
    "    sentiment.append(0.5)\n",
    "  i += 1"
   ]
  },
  {
   "cell_type": "code",
   "execution_count": null,
   "metadata": {
    "colab": {},
    "colab_type": "code",
    "id": "SGSOaGBOeYwL"
   },
   "outputs": [],
   "source": [
    "df11[\"Sentiment\"] = sentiment"
   ]
  },
  {
   "cell_type": "code",
   "execution_count": null,
   "metadata": {
    "colab": {
     "base_uri": "https://localhost:8080/",
     "height": 306
    },
    "colab_type": "code",
    "id": "5s0Kdp2jIHhb",
    "outputId": "2f8a6790-bcb4-4376-e4c5-38df29375ce8"
   },
   "outputs": [],
   "source": [
    "df0 = df_split[0]\n",
    "df0 = df11.reset_index(drop=True)\n",
    "df0.head()"
   ]
  },
  {
   "cell_type": "code",
   "execution_count": null,
   "metadata": {
    "colab": {},
    "colab_type": "code",
    "id": "BgKjdtT6IHep"
   },
   "outputs": [],
   "source": [
    "sentiment = []\n",
    "for i in range(len(df0)):\n",
    "  try:\n",
    "    score = predict_sentiment(model, tokenizer, df0[\"Text\"][i])\n",
    "    sentiment.append(score)\n",
    "  except:\n",
    "    sentiment.append(0.5)\n",
    "  i += 1"
   ]
  },
  {
   "cell_type": "code",
   "execution_count": null,
   "metadata": {
    "colab": {},
    "colab_type": "code",
    "id": "fnz7DaoZIHc6"
   },
   "outputs": [],
   "source": [
    "df0[\"Sentiment\"] = sentiment"
   ]
  },
  {
   "cell_type": "code",
   "execution_count": null,
   "metadata": {
    "colab": {
     "base_uri": "https://localhost:8080/",
     "height": 289
    },
    "colab_type": "code",
    "id": "XIC9-FYJIHaV",
    "outputId": "cf235225-9b08-4645-9ef8-16f5f8f85303"
   },
   "outputs": [],
   "source": [
    "df1 = df_split[1]\n",
    "df1 = df1.reset_index(drop=True)\n",
    "df1.head()"
   ]
  },
  {
   "cell_type": "code",
   "execution_count": null,
   "metadata": {
    "colab": {},
    "colab_type": "code",
    "id": "rIQJDQCkIHX3"
   },
   "outputs": [],
   "source": [
    "sentiment = []\n",
    "for i in range(len(df1)):\n",
    "  try:\n",
    "    score = predict_sentiment(model, tokenizer, df1[\"Text\"][i])\n",
    "    sentiment.append(score)\n",
    "  except:\n",
    "    sentiment.append(0.5)\n",
    "  i += 1"
   ]
  },
  {
   "cell_type": "code",
   "execution_count": null,
   "metadata": {
    "colab": {},
    "colab_type": "code",
    "id": "rRbPAislIHVL"
   },
   "outputs": [],
   "source": [
    "df1[\"Sentiment\"] = sentiment"
   ]
  },
  {
   "cell_type": "code",
   "execution_count": null,
   "metadata": {
    "colab": {
     "base_uri": "https://localhost:8080/",
     "height": 204
    },
    "colab_type": "code",
    "id": "XF3cYVJyIHSG",
    "outputId": "ddfcc27d-695c-4ffc-f16f-64fad5458521"
   },
   "outputs": [],
   "source": [
    "df2 = df_split[2]\n",
    "df2 = df2.reset_index(drop=True)\n",
    "df2.head()"
   ]
  },
  {
   "cell_type": "code",
   "execution_count": null,
   "metadata": {
    "colab": {},
    "colab_type": "code",
    "id": "G1haVSIZIHQU"
   },
   "outputs": [],
   "source": [
    "sentiment = []\n",
    "for i in range(len(df2)):\n",
    "  try:\n",
    "    score = predict_sentiment(model, tokenizer, df2[\"Text\"][i])\n",
    "    sentiment.append(score)\n",
    "  except:\n",
    "    sentiment.append(0.5)\n",
    "  i += 1"
   ]
  },
  {
   "cell_type": "code",
   "execution_count": null,
   "metadata": {
    "colab": {},
    "colab_type": "code",
    "id": "0zuCWYCWIHNo"
   },
   "outputs": [],
   "source": [
    "df2[\"Sentiment\"] = sentiment"
   ]
  },
  {
   "cell_type": "code",
   "execution_count": null,
   "metadata": {
    "colab": {
     "base_uri": "https://localhost:8080/",
     "height": 204
    },
    "colab_type": "code",
    "id": "uFvalxPeIHLI",
    "outputId": "fffa3aed-970a-494d-e772-4a0e88d3abb4"
   },
   "outputs": [],
   "source": [
    "df3 = df_split[3]\n",
    "df3 = df3.reset_index(drop=True)\n",
    "df3.head()"
   ]
  },
  {
   "cell_type": "code",
   "execution_count": null,
   "metadata": {
    "colab": {},
    "colab_type": "code",
    "id": "tM8oZa3xIHJf"
   },
   "outputs": [],
   "source": [
    "sentiment = []\n",
    "for i in range(len(df3)):\n",
    "  try:\n",
    "    score = predict_sentiment(model, tokenizer, df3[\"Text\"][i])\n",
    "    sentiment.append(score)\n",
    "  except:\n",
    "    sentiment.append(0.5)\n",
    "  i += 1"
   ]
  },
  {
   "cell_type": "code",
   "execution_count": null,
   "metadata": {
    "colab": {},
    "colab_type": "code",
    "id": "4NbhXKaZIHF2"
   },
   "outputs": [],
   "source": [
    "df3[\"Sentiment\"] = sentiment"
   ]
  },
  {
   "cell_type": "code",
   "execution_count": null,
   "metadata": {
    "colab": {
     "base_uri": "https://localhost:8080/",
     "height": 204
    },
    "colab_type": "code",
    "id": "SgEvZ2WPIxGB",
    "outputId": "a1c34eca-d055-498a-cc8f-e43ad68e0f9c"
   },
   "outputs": [],
   "source": [
    "df4 = df_split[4]\n",
    "df4 = df4.reset_index(drop=True)\n",
    "df4.head()"
   ]
  },
  {
   "cell_type": "code",
   "execution_count": null,
   "metadata": {
    "colab": {},
    "colab_type": "code",
    "id": "hopKuikqIxBf"
   },
   "outputs": [],
   "source": [
    "sentiment = []\n",
    "for i in range(len(df4)):\n",
    "  try:\n",
    "    score = predict_sentiment(model, tokenizer, df4[\"Text\"][i])\n",
    "    sentiment.append(score)\n",
    "  except:\n",
    "    sentiment.append(0.5)\n",
    "  i += 1"
   ]
  },
  {
   "cell_type": "code",
   "execution_count": null,
   "metadata": {
    "colab": {},
    "colab_type": "code",
    "id": "HoCxDZC4Iw_v"
   },
   "outputs": [],
   "source": [
    "df4[\"Sentiment\"] = sentiment"
   ]
  },
  {
   "cell_type": "code",
   "execution_count": null,
   "metadata": {
    "colab": {
     "base_uri": "https://localhost:8080/",
     "height": 204
    },
    "colab_type": "code",
    "id": "6AfP4VrXIwR9",
    "outputId": "ae588d45-d1f0-4c64-c3c6-fb624884b2da"
   },
   "outputs": [],
   "source": [
    "df5 = df_split[5]\n",
    "df5 = df5.reset_index(drop=True)\n",
    "df5.head()"
   ]
  },
  {
   "cell_type": "code",
   "execution_count": null,
   "metadata": {
    "colab": {},
    "colab_type": "code",
    "id": "3xvE2-8NIwQN"
   },
   "outputs": [],
   "source": [
    "sentiment = []\n",
    "for i in range(len(df5)):\n",
    "  try:\n",
    "    score = predict_sentiment(model, tokenizer, df5[\"Text\"][i])\n",
    "    sentiment.append(score)\n",
    "  except:\n",
    "    sentiment.append(0.5)\n",
    "  i += 1"
   ]
  },
  {
   "cell_type": "code",
   "execution_count": null,
   "metadata": {
    "colab": {},
    "colab_type": "code",
    "id": "3ysuWsbEIw8s"
   },
   "outputs": [],
   "source": [
    "df5[\"Sentiment\"] = sentiment"
   ]
  },
  {
   "cell_type": "code",
   "execution_count": null,
   "metadata": {
    "colab": {},
    "colab_type": "code",
    "id": "mnZIoC94IwMy"
   },
   "outputs": [],
   "source": []
  },
  {
   "cell_type": "code",
   "execution_count": null,
   "metadata": {
    "colab": {},
    "colab_type": "code",
    "id": "iugodwLzIG8n"
   },
   "outputs": [],
   "source": [
    "df11 = df_split[11]\n",
    "df11 = df11.reset_index(drop=True)\n",
    "df11.head()"
   ]
  },
  {
   "cell_type": "code",
   "execution_count": null,
   "metadata": {
    "colab": {},
    "colab_type": "code",
    "id": "mT2PedpXIK-M"
   },
   "outputs": [],
   "source": [
    "sentiment = []\n",
    "for i in range(len(df0)):\n",
    "  try:\n",
    "    score = predict_sentiment(model, tokenizer, df0[\"Text\"][i])\n",
    "    sentiment.append(score)\n",
    "  except:\n",
    "    sentiment.append(0.5)\n",
    "  i += 1"
   ]
  },
  {
   "cell_type": "code",
   "execution_count": null,
   "metadata": {
    "colab": {},
    "colab_type": "code",
    "id": "cvv-vutsIK7A"
   },
   "outputs": [],
   "source": [
    "import pandas as pd\n"
   ]
  },
  {
   "cell_type": "code",
   "execution_count": null,
   "metadata": {
    "colab": {},
    "colab_type": "code",
    "id": "5n-7xvunmLYe"
   },
   "outputs": [],
   "source": [
    "df = pd.concat([df0,df1,df2,df3,df4,df5,df6,df7,df8,df9,df10,df11],ignore_index = True)"
   ]
  },
  {
   "cell_type": "code",
   "execution_count": null,
   "metadata": {
    "colab": {
     "base_uri": "https://localhost:8080/",
     "height": 34
    },
    "colab_type": "code",
    "id": "ctjVzkJFeh1r",
    "outputId": "299d79cf-6a16-40b8-e56a-c37c22651f4b"
   },
   "outputs": [],
   "source": [
    "len(df)"
   ]
  },
  {
   "cell_type": "code",
   "execution_count": null,
   "metadata": {
    "colab": {},
    "colab_type": "code",
    "id": "zOPkrHHQehyp"
   },
   "outputs": [],
   "source": [
    "df.to_csv('df.csv')\n",
    "from google.colab import files\n",
    "files.download('df.csv')"
   ]
  },
  {
   "cell_type": "code",
   "execution_count": null,
   "metadata": {
    "colab": {},
    "colab_type": "code",
    "id": "34MqYSsZHGQY"
   },
   "outputs": [],
   "source": [
    "df1.to_csv('df1.csv')\n",
    "from google.colab import files\n",
    "files.download('df1.csv')"
   ]
  },
  {
   "cell_type": "code",
   "execution_count": null,
   "metadata": {
    "colab": {},
    "colab_type": "code",
    "id": "_2rVwQ9eHGOM"
   },
   "outputs": [],
   "source": [
    "df2.to_csv('df2.csv')\n",
    "from google.colab import files\n",
    "files.download('df2.csv')"
   ]
  },
  {
   "cell_type": "code",
   "execution_count": null,
   "metadata": {
    "colab": {},
    "colab_type": "code",
    "id": "B4GXH9jtHGMG"
   },
   "outputs": [],
   "source": [
    "df3.to_csv('df3.csv')\n",
    "from google.colab import files\n",
    "files.download('df3.csv')"
   ]
  },
  {
   "cell_type": "code",
   "execution_count": null,
   "metadata": {
    "colab": {},
    "colab_type": "code",
    "id": "yNS0KOGOHGJo"
   },
   "outputs": [],
   "source": [
    "df4.to_csv('df4.csv')\n",
    "from google.colab import files\n",
    "files.download('df4.csv')"
   ]
  },
  {
   "cell_type": "code",
   "execution_count": null,
   "metadata": {
    "colab": {},
    "colab_type": "code",
    "id": "tXPhXwdXHGG3"
   },
   "outputs": [],
   "source": [
    "df5.to_csv('df5.csv')\n",
    "from google.colab import files\n",
    "files.download('df5.csv')"
   ]
  },
  {
   "cell_type": "code",
   "execution_count": null,
   "metadata": {
    "colab": {},
    "colab_type": "code",
    "id": "NUgKMdF7HGES"
   },
   "outputs": [],
   "source": [
    "df6.to_csv('df6.csv')\n",
    "from google.colab import files\n",
    "files.download('df6.csv')"
   ]
  },
  {
   "cell_type": "code",
   "execution_count": null,
   "metadata": {
    "colab": {},
    "colab_type": "code",
    "id": "oMfxH7ecHGBA"
   },
   "outputs": [],
   "source": [
    "df7.to_csv('df7.csv')\n",
    "from google.colab import files\n",
    "files.download('df7.csv')"
   ]
  },
  {
   "cell_type": "code",
   "execution_count": null,
   "metadata": {
    "colab": {},
    "colab_type": "code",
    "id": "CIaMwFpEHUuH"
   },
   "outputs": [],
   "source": [
    "df08.to_csv('df8.csv')\n",
    "from google.colab import files\n",
    "files.download('df8.csv')"
   ]
  },
  {
   "cell_type": "code",
   "execution_count": null,
   "metadata": {
    "colab": {},
    "colab_type": "code",
    "id": "xejO3uyvHUgm"
   },
   "outputs": [],
   "source": [
    "df9.to_csv('df9.csv')\n",
    "from google.colab import files\n",
    "files.download('df9.csv')"
   ]
  },
  {
   "cell_type": "code",
   "execution_count": null,
   "metadata": {
    "colab": {},
    "colab_type": "code",
    "id": "uAAUFJoDHUVX"
   },
   "outputs": [],
   "source": [
    "df10.to_csv('df10.csv')\n",
    "from google.colab import files\n",
    "files.download('df10.csv')"
   ]
  },
  {
   "cell_type": "code",
   "execution_count": null,
   "metadata": {
    "colab": {},
    "colab_type": "code",
    "id": "K1PmthmFHUI-"
   },
   "outputs": [],
   "source": [
    "df11.to_csv('df11.csv')\n",
    "from google.colab import files\n",
    "files.download('df11.csv')"
   ]
  },
  {
   "cell_type": "code",
   "execution_count": null,
   "metadata": {
    "colab": {
     "base_uri": "https://localhost:8080/",
     "height": 442
    },
    "colab_type": "code",
    "id": "E2WIbRxdehvn",
    "outputId": "a19fee4b-be83-4169-ca65-884057410088"
   },
   "outputs": [],
   "source": [
    "df.to_csv('df.csv')\n",
    "from google.colab import files\n",
    "files.download('df.csv')"
   ]
  },
  {
   "cell_type": "code",
   "execution_count": null,
   "metadata": {
    "colab": {
     "base_uri": "https://localhost:8080/",
     "height": 71
    },
    "colab_type": "code",
    "id": "7aGua8NUehsr",
    "outputId": "dc7739eb-7541-4383-f43b-2b0950a54a44"
   },
   "outputs": [],
   "source": [
    "csgo = pd.read_csv(\"df.csv\")"
   ]
  },
  {
   "cell_type": "code",
   "execution_count": null,
   "metadata": {
    "colab": {
     "base_uri": "https://localhost:8080/",
     "height": 34
    },
    "colab_type": "code",
    "id": "9TT71ueY1BEA",
    "outputId": "7d93eccd-6726-4262-e0a6-f369f4cfb7d1"
   },
   "outputs": [],
   "source": [
    "df[\"Text\"][0]"
   ]
  },
  {
   "cell_type": "code",
   "execution_count": null,
   "metadata": {
    "colab": {},
    "colab_type": "code",
    "id": "sSQtU4cwMCGc"
   },
   "outputs": [],
   "source": [
    "df1[\"Sentiment\"] = sentiment"
   ]
  },
  {
   "cell_type": "code",
   "execution_count": null,
   "metadata": {
    "colab": {
     "base_uri": "https://localhost:8080/",
     "height": 34
    },
    "colab_type": "code",
    "id": "obC4SEsmxzVz",
    "outputId": "f4da287a-fc3d-44af-d2ed-a35ce66b0b20"
   },
   "outputs": [],
   "source": [
    "len(df1)"
   ]
  },
  {
   "cell_type": "code",
   "execution_count": null,
   "metadata": {
    "colab": {
     "base_uri": "https://localhost:8080/",
     "height": 442
    },
    "colab_type": "code",
    "id": "JEBN0wUAsm6o",
    "outputId": "e60b5ecc-a9e5-4da5-ebb4-3ff41f29b4de"
   },
   "outputs": [],
   "source": [
    "df1.to_csv('LDA_Google.csv')\n",
    "from google.colab import files\n",
    "files.download('LDA_Google.csv')"
   ]
  },
  {
   "cell_type": "code",
   "execution_count": null,
   "metadata": {
    "colab": {
     "base_uri": "https://localhost:8080/",
     "height": 306
    },
    "colab_type": "code",
    "id": "OHBlSkH1NCFY",
    "outputId": "77c17b52-3455-45b7-c2ba-ac9320fe76b9"
   },
   "outputs": [],
   "source": [
    "df1 = df_split[1]\n",
    "df1.head()"
   ]
  },
  {
   "cell_type": "code",
   "execution_count": null,
   "metadata": {
    "colab": {
     "base_uri": "https://localhost:8080/",
     "height": 306
    },
    "colab_type": "code",
    "id": "_c25eKXaMz8l",
    "outputId": "d59c3139-7cd4-4168-937a-88af32dc8740"
   },
   "outputs": [],
   "source": [
    "\n",
    "sentiment = []\n",
    "for i in range(len(df1)):\n",
    "  try:\n",
    "    score = predict_sentiment(model, tokenizer, df1[\"Text\"][i+48896])\n",
    "    sentiment.append(score)\n",
    "  except:\n",
    "    sentiment.append(0.5)\n",
    "  i += 1\n",
    "\n",
    "df1[\"Sentiment\"] = sentiment\n",
    "df1.head()"
   ]
  },
  {
   "cell_type": "code",
   "execution_count": null,
   "metadata": {
    "colab": {
     "base_uri": "https://localhost:8080/",
     "height": 306
    },
    "colab_type": "code",
    "id": "pYdQJF8qNHf0",
    "outputId": "2fdc97ec-8089-4697-feed-3fb50bd89cba"
   },
   "outputs": [],
   "source": [
    "df2 = df_split[2]\n",
    "df2.head()"
   ]
  },
  {
   "cell_type": "code",
   "execution_count": null,
   "metadata": {
    "colab": {
     "base_uri": "https://localhost:8080/",
     "height": 306
    },
    "colab_type": "code",
    "id": "xKNvPVA_NH97",
    "outputId": "82550701-2b96-4ad3-a18c-3e9ae7f71f28"
   },
   "outputs": [],
   "source": [
    "\n",
    "sentiment = []\n",
    "for i in range(len(df2)):\n",
    "  try:\n",
    "    score = predict_sentiment(model, tokenizer, df2[\"Text\"][i+97792])\n",
    "    sentiment.append(score)\n",
    "  except:\n",
    "    sentiment.append(0.5)\n",
    "  i += 1\n",
    "\n",
    "df2[\"Sentiment\"] = sentiment\n",
    "df2.head()"
   ]
  },
  {
   "cell_type": "code",
   "execution_count": null,
   "metadata": {
    "colab": {
     "base_uri": "https://localhost:8080/",
     "height": 306
    },
    "colab_type": "code",
    "id": "pHQWjt_0NUaI",
    "outputId": "65a2422b-c812-48d4-afb3-bd964c3a703f"
   },
   "outputs": [],
   "source": [
    "df3 = df_split[3]\n",
    "df3.head()"
   ]
  },
  {
   "cell_type": "code",
   "execution_count": null,
   "metadata": {
    "colab": {
     "base_uri": "https://localhost:8080/",
     "height": 306
    },
    "colab_type": "code",
    "id": "xBs9jJo1NUKY",
    "outputId": "12500274-1f0c-4171-f136-3f0c44d3e5b3"
   },
   "outputs": [],
   "source": [
    "\n",
    "sentiment = []\n",
    "for i in range(len(df3)):\n",
    "  try:\n",
    "    score = predict_sentiment(model, tokenizer, df3[\"Text\"][i+146688])\n",
    "    sentiment.append(score)\n",
    "  except:\n",
    "    sentiment.append(0.5)\n",
    "  i += 1\n",
    "\n",
    "df3[\"Sentiment\"] = sentiment\n",
    "df3.head()"
   ]
  },
  {
   "cell_type": "code",
   "execution_count": null,
   "metadata": {
    "colab": {
     "base_uri": "https://localhost:8080/",
     "height": 306
    },
    "colab_type": "code",
    "id": "i9YCBQW5NbWT",
    "outputId": "bbe45892-2752-4ef8-ac3c-8c443eeba0da"
   },
   "outputs": [],
   "source": [
    "df4 = df_split[4]\n",
    "df4.head()"
   ]
  },
  {
   "cell_type": "code",
   "execution_count": null,
   "metadata": {
    "colab": {
     "base_uri": "https://localhost:8080/",
     "height": 306
    },
    "colab_type": "code",
    "id": "SnRN_BwvNaQb",
    "outputId": "9b5ace76-0569-4317-8046-bcffd428f239"
   },
   "outputs": [],
   "source": [
    "\n",
    "sentiment = []\n",
    "for i in range(len(df4)):\n",
    "  try:\n",
    "    score = predict_sentiment(model, tokenizer, df4[\"Text\"][i+195584])\n",
    "    sentiment.append(score)\n",
    "  except:\n",
    "    sentiment.append(0.5)\n",
    "  i += 1\n",
    "\n",
    "df4[\"Sentiment\"] = sentiment\n",
    "df4.head()"
   ]
  },
  {
   "cell_type": "code",
   "execution_count": null,
   "metadata": {
    "colab": {
     "base_uri": "https://localhost:8080/",
     "height": 306
    },
    "colab_type": "code",
    "id": "AbLZHTXGNhhY",
    "outputId": "c12bf236-2a27-44d4-bedd-5799fddc2b44"
   },
   "outputs": [],
   "source": [
    "df5 = df_split[5]\n",
    "df5.head()"
   ]
  },
  {
   "cell_type": "code",
   "execution_count": null,
   "metadata": {
    "colab": {
     "base_uri": "https://localhost:8080/",
     "height": 306
    },
    "colab_type": "code",
    "id": "MZZtAZSuNhau",
    "outputId": "72beb505-7e64-4e26-a6bf-c07d55043e72"
   },
   "outputs": [],
   "source": [
    "\n",
    "sentiment = []\n",
    "for i in range(len(df5)):\n",
    "  try:\n",
    "    score = predict_sentiment(model, tokenizer, df5[\"Text\"][i+244480])\n",
    "    sentiment.append(score)\n",
    "  except:\n",
    "    sentiment.append(0.5)\n",
    "  i += 1\n",
    "\n",
    "df5[\"Sentiment\"] = sentiment\n",
    "df5.head()"
   ]
  },
  {
   "cell_type": "code",
   "execution_count": null,
   "metadata": {
    "colab": {
     "base_uri": "https://localhost:8080/",
     "height": 306
    },
    "colab_type": "code",
    "id": "-oKQonYcNnpU",
    "outputId": "b12af50c-7fbd-4009-ce4b-82fdd0a5fbcc"
   },
   "outputs": [],
   "source": [
    "df6 = df_split[6]\n",
    "df6.head()"
   ]
  },
  {
   "cell_type": "code",
   "execution_count": null,
   "metadata": {
    "colab": {
     "base_uri": "https://localhost:8080/",
     "height": 306
    },
    "colab_type": "code",
    "id": "1PpoGnNuNnm3",
    "outputId": "1c941bce-d415-4a26-b087-44775a9786aa"
   },
   "outputs": [],
   "source": [
    "\n",
    "sentiment = []\n",
    "for i in range(len(df6)):\n",
    "  try:\n",
    "    score = predict_sentiment(model, tokenizer, df6[\"Text\"][i+293375])\n",
    "    sentiment.append(score)\n",
    "  except:\n",
    "    sentiment.append(0.5)\n",
    "  i += 1\n",
    "\n",
    "df6[\"Sentiment\"] = sentiment\n",
    "df6.head()"
   ]
  },
  {
   "cell_type": "code",
   "execution_count": null,
   "metadata": {
    "colab": {
     "base_uri": "https://localhost:8080/",
     "height": 306
    },
    "colab_type": "code",
    "id": "oc4n2PPdNnk1",
    "outputId": "7b66b96a-4d3f-43c4-9703-6fb3ba66cd25"
   },
   "outputs": [],
   "source": [
    "df7 = df_split[7]\n",
    "df7.head()"
   ]
  },
  {
   "cell_type": "code",
   "execution_count": null,
   "metadata": {
    "colab": {
     "base_uri": "https://localhost:8080/",
     "height": 306
    },
    "colab_type": "code",
    "id": "RqLdBoanNnia",
    "outputId": "2dbaf0c8-eaf4-413a-d71b-9dac00b5efd6"
   },
   "outputs": [],
   "source": [
    "\n",
    "sentiment = []\n",
    "for i in range(len(df7)):\n",
    "  try:\n",
    "    score = predict_sentiment(model, tokenizer, df7[\"Text\"][i+342270])\n",
    "    sentiment.append(score)\n",
    "  except:\n",
    "    sentiment.append(0.5)\n",
    "  i += 1\n",
    "\n",
    "df7[\"Sentiment\"] = sentiment\n",
    "df7.head()"
   ]
  },
  {
   "cell_type": "code",
   "execution_count": null,
   "metadata": {
    "colab": {},
    "colab_type": "code",
    "id": "CMHDB2lHOC-K"
   },
   "outputs": [],
   "source": []
  },
  {
   "cell_type": "code",
   "execution_count": null,
   "metadata": {
    "colab": {},
    "colab_type": "code",
    "id": "ezParx_GOC8D"
   },
   "outputs": [],
   "source": []
  },
  {
   "cell_type": "code",
   "execution_count": null,
   "metadata": {
    "colab": {
     "base_uri": "https://localhost:8080/",
     "height": 34
    },
    "colab_type": "code",
    "id": "bPNDhnSNOC4X",
    "outputId": "4ae18dab-5ae7-44e5-cdba-8b1573849f11"
   },
   "outputs": [],
   "source": [
    "len(df1)"
   ]
  },
  {
   "cell_type": "code",
   "execution_count": null,
   "metadata": {
    "colab": {
     "base_uri": "https://localhost:8080/",
     "height": 34
    },
    "colab_type": "code",
    "id": "vigx8l7-OC1g",
    "outputId": "446deff9-3ced-41f4-f51c-0ae9a1c47ab0"
   },
   "outputs": [],
   "source": [
    "len(df2)"
   ]
  },
  {
   "cell_type": "code",
   "execution_count": null,
   "metadata": {
    "colab": {},
    "colab_type": "code",
    "id": "7eQ148doSGoz"
   },
   "outputs": [],
   "source": [
    "df1.to_csv('LDA_Bing.csv')"
   ]
  },
  {
   "cell_type": "code",
   "execution_count": null,
   "metadata": {
    "colab": {
     "base_uri": "https://localhost:8080/",
     "height": 442
    },
    "colab_type": "code",
    "id": "oA2ccENUN4iF",
    "outputId": "f5c103ce-53d0-4c00-df4b-8000fdfce541"
   },
   "outputs": [],
   "source": [
    "df.to_csv('Twitter Sentiment.csv')\n",
    "from google.colab import files\n",
    "files.download('Twitter Sentiment.csv')"
   ]
  },
  {
   "cell_type": "code",
   "execution_count": null,
   "metadata": {
    "colab": {},
    "colab_type": "code",
    "id": "x0eDHHFI4npD"
   },
   "outputs": [],
   "source": [
    "\n",
    "dfc = pd.concat([df0,df1,df2,df3,df4,df5,df6,df7])"
   ]
  },
  {
   "cell_type": "code",
   "execution_count": null,
   "metadata": {
    "colab": {},
    "colab_type": "code",
    "id": "0A7-ptr1Ekbp"
   },
   "outputs": [],
   "source": []
  },
  {
   "cell_type": "code",
   "execution_count": null,
   "metadata": {
    "colab": {},
    "colab_type": "code",
    "id": "BD9hJWzh4nl8"
   },
   "outputs": [],
   "source": [
    "#twitter.head()"
   ]
  },
  {
   "cell_type": "code",
   "execution_count": null,
   "metadata": {
    "colab": {},
    "colab_type": "code",
    "id": "ZGbjEpgF4njQ"
   },
   "outputs": [],
   "source": []
  },
  {
   "cell_type": "code",
   "execution_count": null,
   "metadata": {
    "colab": {},
    "colab_type": "code",
    "id": "AgQWpZDy4ngT"
   },
   "outputs": [],
   "source": [
    "import pandas as pd"
   ]
  },
  {
   "cell_type": "code",
   "execution_count": null,
   "metadata": {
    "colab": {
     "base_uri": "https://localhost:8080/",
     "height": 375
    },
    "colab_type": "code",
    "id": "BJO_jXyP4neG",
    "outputId": "26a5638e-776a-4602-ce4f-2df74d86df0c"
   },
   "outputs": [],
   "source": [
    "df = pd.read_csv(\"LDA_Twitter.csv\")"
   ]
  },
  {
   "cell_type": "code",
   "execution_count": null,
   "metadata": {
    "colab": {
     "base_uri": "https://localhost:8080/",
     "height": 421
    },
    "colab_type": "code",
    "id": "SvD4Rgso4nbM",
    "outputId": "68946889-1613-4a9a-ce2c-ec5ee67b6d6b"
   },
   "outputs": [],
   "source": [
    "df.groupby(\"Dominant_Topic\").mean()"
   ]
  },
  {
   "cell_type": "code",
   "execution_count": null,
   "metadata": {
    "colab": {},
    "colab_type": "code",
    "id": "bBXMElwkFBu5"
   },
   "outputs": [],
   "source": []
  }
 ],
 "metadata": {
  "accelerator": "GPU",
  "colab": {
   "collapsed_sections": [],
   "machine_shape": "hm",
   "name": "Copy of 6 - Transformers for Sentiment Analysis.ipynb",
   "provenance": []
  },
  "kernelspec": {
   "display_name": "Python 3",
   "language": "python",
   "name": "python3"
  },
  "language_info": {
   "codemirror_mode": {
    "name": "ipython",
    "version": 3
   },
   "file_extension": ".py",
   "mimetype": "text/x-python",
   "name": "python",
   "nbconvert_exporter": "python",
   "pygments_lexer": "ipython3",
   "version": "3.7.4"
  }
 },
 "nbformat": 4,
 "nbformat_minor": 1
}
